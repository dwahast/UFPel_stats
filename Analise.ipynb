{
 "cells": [
  {
   "cell_type": "code",
   "execution_count": 1,
   "metadata": {},
   "outputs": [],
   "source": [
    "import pandas as pd \n",
    "import matplotlib.pyplot as plt \n",
    "import numpy as np"
   ]
  },
  {
   "cell_type": "markdown",
   "metadata": {},
   "source": [
    "# Carregando dados"
   ]
  },
  {
   "cell_type": "code",
   "execution_count": 2,
   "metadata": {},
   "outputs": [
    {
     "data": {
      "text/html": [
       "<div>\n",
       "<style scoped>\n",
       "    .dataframe tbody tr th:only-of-type {\n",
       "        vertical-align: middle;\n",
       "    }\n",
       "\n",
       "    .dataframe tbody tr th {\n",
       "        vertical-align: top;\n",
       "    }\n",
       "\n",
       "    .dataframe thead th {\n",
       "        text-align: right;\n",
       "    }\n",
       "</style>\n",
       "<table border=\"1\" class=\"dataframe\">\n",
       "  <thead>\n",
       "    <tr style=\"text-align: right;\">\n",
       "      <th></th>\n",
       "      <th>Curso</th>\n",
       "      <th>Ingresso (ano/sem)</th>\n",
       "      <th>18. Exerce alguma atividade profissional?</th>\n",
       "      <th>Quantas horas semanais?</th>\n",
       "      <th>19. Recebe algum auxílio de assistência estudantil?</th>\n",
       "      <th>31. Pratica alguma atividade física?</th>\n",
       "      <th>Qual(is)?</th>\n",
       "      <th>40. Esse curso foi sua primeira opção?</th>\n",
       "      <th>Se não, qual foi?</th>\n",
       "      <th>49. Quantas disciplinas você já cursou (incluindo as reprovações e os aproveitamentos)?</th>\n",
       "      <th>50. Em quantas disciplinas do curso você reprovou?</th>\n",
       "      <th>52. Qual sua média geral no curso?</th>\n",
       "      <th>54. Qual seu nível de satisfação com o curso até o momento?</th>\n",
       "    </tr>\n",
       "    <tr>\n",
       "      <th>i</th>\n",
       "      <th></th>\n",
       "      <th></th>\n",
       "      <th></th>\n",
       "      <th></th>\n",
       "      <th></th>\n",
       "      <th></th>\n",
       "      <th></th>\n",
       "      <th></th>\n",
       "      <th></th>\n",
       "      <th></th>\n",
       "      <th></th>\n",
       "      <th></th>\n",
       "      <th></th>\n",
       "    </tr>\n",
       "  </thead>\n",
       "  <tbody>\n",
       "    <tr>\n",
       "      <th>30</th>\n",
       "      <td>Engenharia de Computação</td>\n",
       "      <td>171</td>\n",
       "      <td>Não</td>\n",
       "      <td>NaN</td>\n",
       "      <td>Não</td>\n",
       "      <td>Não</td>\n",
       "      <td>NaN</td>\n",
       "      <td>Sim</td>\n",
       "      <td>NaN</td>\n",
       "      <td>23</td>\n",
       "      <td>0</td>\n",
       "      <td>7.8</td>\n",
       "      <td>7</td>\n",
       "    </tr>\n",
       "  </tbody>\n",
       "</table>\n",
       "</div>"
      ],
      "text/plain": [
       "                       Curso  Ingresso (ano/sem)  \\\n",
       "i                                                  \n",
       "30  Engenharia de Computação                 171   \n",
       "\n",
       "   18. Exerce alguma atividade profissional? Quantas horas semanais?  \\\n",
       "i                                                                      \n",
       "30                                       Não                     NaN   \n",
       "\n",
       "   19. Recebe algum auxílio de assistência estudantil?  \\\n",
       "i                                                        \n",
       "30                                                Não    \n",
       "\n",
       "   31. Pratica alguma atividade física? Qual(is)?  \\\n",
       "i                                                   \n",
       "30                                  Não       NaN   \n",
       "\n",
       "   40. Esse curso foi sua primeira opção? Se não, qual foi?  \\\n",
       "i                                                             \n",
       "30                                    Sim               NaN   \n",
       "\n",
       "    49. Quantas disciplinas você já cursou (incluindo as reprovações e os aproveitamentos)?  \\\n",
       "i                                                                                             \n",
       "30                                                 23                                         \n",
       "\n",
       "    50. Em quantas disciplinas do curso você reprovou?  \\\n",
       "i                                                        \n",
       "30                                                  0    \n",
       "\n",
       "   52. Qual sua média geral no curso?  \\\n",
       "i                                       \n",
       "30                                7.8   \n",
       "\n",
       "    54. Qual seu nível de satisfação com o curso até o momento?  \n",
       "i                                                                \n",
       "30                                                  7            "
      ]
     },
     "execution_count": 2,
     "metadata": {},
     "output_type": "execute_result"
    }
   ],
   "source": [
    "df = pd.read_excel('dados.xlsx', sheet_name=0, index_col=0, decimal=',')\n",
    "df.sample(1)"
   ]
  },
  {
   "cell_type": "markdown",
   "metadata": {},
   "source": [
    "# modificando nome de colunas"
   ]
  },
  {
   "cell_type": "code",
   "execution_count": 3,
   "metadata": {},
   "outputs": [
    {
     "data": {
      "text/html": [
       "<div>\n",
       "<style scoped>\n",
       "    .dataframe tbody tr th:only-of-type {\n",
       "        vertical-align: middle;\n",
       "    }\n",
       "\n",
       "    .dataframe tbody tr th {\n",
       "        vertical-align: top;\n",
       "    }\n",
       "\n",
       "    .dataframe thead th {\n",
       "        text-align: right;\n",
       "    }\n",
       "</style>\n",
       "<table border=\"1\" class=\"dataframe\">\n",
       "  <thead>\n",
       "    <tr style=\"text-align: right;\">\n",
       "      <th></th>\n",
       "      <th>curso</th>\n",
       "      <th>ano_ingresso</th>\n",
       "      <th>atividade_prof</th>\n",
       "      <th>ap_horas</th>\n",
       "      <th>auxilio_estudantil</th>\n",
       "      <th>atividade_fis</th>\n",
       "      <th>af_items</th>\n",
       "      <th>curso_1op</th>\n",
       "      <th>curso_op</th>\n",
       "      <th>n_disciplinas</th>\n",
       "      <th>n_reprovacao</th>\n",
       "      <th>media</th>\n",
       "      <th>nvl_satisfacao</th>\n",
       "    </tr>\n",
       "    <tr>\n",
       "      <th>i</th>\n",
       "      <th></th>\n",
       "      <th></th>\n",
       "      <th></th>\n",
       "      <th></th>\n",
       "      <th></th>\n",
       "      <th></th>\n",
       "      <th></th>\n",
       "      <th></th>\n",
       "      <th></th>\n",
       "      <th></th>\n",
       "      <th></th>\n",
       "      <th></th>\n",
       "      <th></th>\n",
       "    </tr>\n",
       "  </thead>\n",
       "  <tbody>\n",
       "    <tr>\n",
       "      <th>39</th>\n",
       "      <td>Ciências Econômicas</td>\n",
       "      <td>171</td>\n",
       "      <td>Sim</td>\n",
       "      <td>30</td>\n",
       "      <td>Não</td>\n",
       "      <td>Sim</td>\n",
       "      <td>NaN</td>\n",
       "      <td>Sim</td>\n",
       "      <td>NaN</td>\n",
       "      <td>15</td>\n",
       "      <td>7</td>\n",
       "      <td>...</td>\n",
       "      <td>7</td>\n",
       "    </tr>\n",
       "  </tbody>\n",
       "</table>\n",
       "</div>"
      ],
      "text/plain": [
       "                  curso  ano_ingresso atividade_prof ap_horas  \\\n",
       "i                                                               \n",
       "39  Ciências Econômicas           171            Sim       30   \n",
       "\n",
       "   auxilio_estudantil atividade_fis af_items curso_1op curso_op  \\\n",
       "i                                                                 \n",
       "39                Não           Sim      NaN       Sim      NaN   \n",
       "\n",
       "    n_disciplinas  n_reprovacao media  nvl_satisfacao  \n",
       "i                                                      \n",
       "39             15             7   ...               7  "
      ]
     },
     "execution_count": 3,
     "metadata": {},
     "output_type": "execute_result"
    }
   ],
   "source": [
    "new_columns = ['curso', 'ano_ingresso', 'atividade_prof', 'ap_horas', 'auxilio_estudantil', 'atividade_fis', 'af_items', 'curso_1op', 'curso_op', 'n_disciplinas', 'n_reprovacao', 'media', 'nvl_satisfacao']\n",
    "df.columns = new_columns\n",
    "df.sample(1)"
   ]
  },
  {
   "cell_type": "markdown",
   "metadata": {},
   "source": [
    "# Split ano em ano e semestre"
   ]
  },
  {
   "cell_type": "code",
   "execution_count": 4,
   "metadata": {},
   "outputs": [],
   "source": [
    "ano_semestre = df.ano_ingresso\n",
    "ano = []\n",
    "semestre = []\n",
    "\n",
    "for ano_sem in ano_semestre:\n",
    "    \n",
    "    if(str(ano_sem)[-1] == ''):\n",
    "        sem = 0\n",
    "    else:\n",
    "        sem = int(str(ano_sem)[-1])\n",
    "    \n",
    "    \n",
    "    an =  int(str(ano_sem)[:-1])\n",
    "    \n",
    "    ano.append(an)\n",
    "    semestre.append(sem)\n",
    "\n",
    "df['ano_ingresso'] = ano\n",
    "df['sem_ingresso'] = semestre\n",
    "\n",
    "columns_order = np.append(['curso', 'ano_ingresso', 'sem_ingresso'], df.columns[2:-1])\n",
    "\n",
    "df = df[columns_order] "
   ]
  },
  {
   "cell_type": "code",
   "execution_count": 5,
   "metadata": {},
   "outputs": [
    {
     "data": {
      "text/plain": [
       "17    67\n",
       "15    32\n",
       "16    26\n",
       "18    15\n",
       "13    10\n",
       "14     9\n",
       "12     9\n",
       "19     6\n",
       "10     1\n",
       "9      1\n",
       "Name: ano_ingresso, dtype: int64"
      ]
     },
     "execution_count": 5,
     "metadata": {},
     "output_type": "execute_result"
    }
   ],
   "source": [
    "df.ano_ingresso.value_counts()"
   ]
  },
  {
   "cell_type": "markdown",
   "metadata": {},
   "source": [
    "# Removendo outliers"
   ]
  },
  {
   "cell_type": "code",
   "execution_count": 6,
   "metadata": {},
   "outputs": [],
   "source": [
    "df.dtypes #colunas numericas com possiveis outliers\n",
    "\n",
    "columns_to_explore = ['n_disciplinas', 'n_reprovacao']"
   ]
  },
  {
   "cell_type": "code",
   "execution_count": 7,
   "metadata": {},
   "outputs": [
    {
     "name": "stdout",
     "output_type": "stream",
     "text": [
      "outliers number: 10\n",
      "\n",
      "outliers number: 0\n",
      "\n"
     ]
    }
   ],
   "source": [
    "from remove_outliers import remove_outliers\n",
    "\n",
    "new_df = remove_outliers(df, columns_to_explore)\n",
    "\n",
    "#df['n_disciplinas'] = new_df['n_disciplinas']\n",
    "#df['n_reprovacao'] = new_df['n_reprovacao']\n",
    "\n",
    "df = new_df"
   ]
  },
  {
   "cell_type": "markdown",
   "metadata": {},
   "source": [
    "# Explorando dados\n",
    "<img align=\"center\" src=\"imgs/angry_cat.jpg\"/>"
   ]
  },
  {
   "cell_type": "markdown",
   "metadata": {},
   "source": [
    "### Selecionando e modificando medias validas"
   ]
  },
  {
   "cell_type": "code",
   "execution_count": 8,
   "metadata": {},
   "outputs": [],
   "source": [
    "wrong_values = []\n",
    "for media, index in zip(df.media, df.index):\n",
    "    if isinstance(media, str):\n",
    "        str_media = media.split(' ')\n",
    "        #print(str_media[0])\n",
    "        if((str_media[0].isalpha()) | (str_media[0] == '-') | (str_media[0] == '...')):\n",
    "            #print(str_media[0])\n",
    "            wrong_values.append(index)\n",
    "#wrong_values"
   ]
  },
  {
   "cell_type": "code",
   "execution_count": 9,
   "metadata": {},
   "outputs": [],
   "source": [
    "df = df.drop(wrong_values)\n",
    "#df.iloc[35:42,:]"
   ]
  },
  {
   "cell_type": "code",
   "execution_count": 10,
   "metadata": {},
   "outputs": [],
   "source": [
    "df.media = df.media.apply(lambda x: float(x.split(' ')[0]) if isinstance(x, str) else float(x))\n",
    "#df.media"
   ]
  },
  {
   "cell_type": "markdown",
   "metadata": {},
   "source": [
    "## formatando media"
   ]
  },
  {
   "cell_type": "code",
   "execution_count": 11,
   "metadata": {},
   "outputs": [],
   "source": [
    "df.media = df.media.apply(lambda x: x/10 if x>10 else x)\n",
    "#df.media"
   ]
  },
  {
   "cell_type": "markdown",
   "metadata": {},
   "source": [
    "### Selecionando e modificando horas de trabalho validas"
   ]
  },
  {
   "cell_type": "code",
   "execution_count": 12,
   "metadata": {},
   "outputs": [
    {
     "name": "stdout",
     "output_type": "stream",
     "text": [
      "13\n",
      "20 \n",
      "20\n"
     ]
    }
   ],
   "source": [
    "for hora in df.ap_horas:\n",
    "    if isinstance(hora, str):\n",
    "        str_hora = hora.split('h')[0]\n",
    "        if str_hora[0] == '~':\n",
    "            print(str_hora[1:])\n",
    "        else:\n",
    "            print(str_hora)\n",
    "\n",
    "def str_to_float(x):\n",
    "    if isinstance(x, str):\n",
    "        str_x = x.split('h')[0]\n",
    "        if str_x[0] == '~':\n",
    "            x = float(str_x[1:])\n",
    "        else:\n",
    "            x = float(str_x)\n",
    "    else:\n",
    "        x = float(x)\n",
    "        \n",
    "    #print(x)\n",
    "    return x"
   ]
  },
  {
   "cell_type": "markdown",
   "metadata": {},
   "source": [
    "# Revisando tipo de colunas"
   ]
  },
  {
   "cell_type": "code",
   "execution_count": 13,
   "metadata": {},
   "outputs": [
    {
     "data": {
      "text/plain": [
       "curso                  object\n",
       "ano_ingresso            int64\n",
       "sem_ingresso            int64\n",
       "atividade_prof         object\n",
       "ap_horas              float64\n",
       "auxilio_estudantil     object\n",
       "atividade_fis          object\n",
       "af_items               object\n",
       "curso_1op              object\n",
       "curso_op               object\n",
       "n_disciplinas           int64\n",
       "n_reprovacao            int64\n",
       "media                 float64\n",
       "nvl_satisfacao          int64\n",
       "dtype: object"
      ]
     },
     "execution_count": 13,
     "metadata": {},
     "output_type": "execute_result"
    }
   ],
   "source": [
    "df.ap_horas.fillna(0, inplace=True)\n",
    "df.ap_horas = df.ap_horas.apply(lambda x: str_to_float(x))\n",
    "df.dtypes"
   ]
  },
  {
   "cell_type": "markdown",
   "metadata": {},
   "source": [
    "# Removendo outliers de horas trabalhadas"
   ]
  },
  {
   "cell_type": "code",
   "execution_count": 15,
   "metadata": {},
   "outputs": [
    {
     "name": "stdout",
     "output_type": "stream",
     "text": [
      "outliers number: 9\n",
      "\n",
      "outliers number: 0\n",
      "\n"
     ]
    }
   ],
   "source": [
    "from remove_outliers import remove_outliers\n",
    "\n",
    "new_df = remove_outliers(df, ['ap_horas'])\n",
    "\n",
    "df = new_df"
   ]
  },
  {
   "cell_type": "markdown",
   "metadata": {},
   "source": [
    "# Análises\n",
    "<img align=\"center\" src=\"imgs/thinking.jpg\" />"
   ]
  },
  {
   "cell_type": "markdown",
   "metadata": {},
   "source": [
    "### analisando por curso"
   ]
  },
  {
   "cell_type": "code",
   "execution_count": 16,
   "metadata": {},
   "outputs": [
    {
     "data": {
      "text/plain": [
       "Ciência da Computação                       70\n",
       "Engenharia de Computação                    43\n",
       "Licenciatura em Matemática                  11\n",
       "Engenharia Hídrica                          10\n",
       "Licenciatura em Matemática - Noturno         5\n",
       "Ciências Econômicas                          4\n",
       "Enfermagem                                   2\n",
       "Licenciatura em Letras - Port. e Francês     2\n",
       "Arquitetura e Urbanismo                      2\n",
       "Relações Internacionais                      1\n",
       "Farmácia                                     1\n",
       "Mestrado em Computação                       1\n",
       "Licenciatura em Geografia                    1\n",
       "Ciências Sociais                             1\n",
       "Jornalismo                                   1\n",
       "Design Gráfico                               1\n",
       "Name: curso, dtype: int64"
      ]
     },
     "execution_count": 16,
     "metadata": {},
     "output_type": "execute_result"
    }
   ],
   "source": [
    "df.curso.value_counts()"
   ]
  },
  {
   "cell_type": "code",
   "execution_count": 17,
   "metadata": {},
   "outputs": [
    {
     "data": {
      "text/plain": [
       "0.7243589743589743"
      ]
     },
     "execution_count": 17,
     "metadata": {},
     "output_type": "execute_result"
    }
   ],
   "source": [
    "(df.curso.value_counts()[0] + df.curso.value_counts()[1]) / df.curso.count()"
   ]
  },
  {
   "cell_type": "markdown",
   "metadata": {},
   "source": [
    "# Computação"
   ]
  },
  {
   "cell_type": "code",
   "execution_count": 18,
   "metadata": {},
   "outputs": [
    {
     "data": {
      "text/html": [
       "<div>\n",
       "<style scoped>\n",
       "    .dataframe tbody tr th:only-of-type {\n",
       "        vertical-align: middle;\n",
       "    }\n",
       "\n",
       "    .dataframe tbody tr th {\n",
       "        vertical-align: top;\n",
       "    }\n",
       "\n",
       "    .dataframe thead th {\n",
       "        text-align: right;\n",
       "    }\n",
       "</style>\n",
       "<table border=\"1\" class=\"dataframe\">\n",
       "  <thead>\n",
       "    <tr style=\"text-align: right;\">\n",
       "      <th></th>\n",
       "      <th>curso</th>\n",
       "      <th>ano_ingresso</th>\n",
       "      <th>sem_ingresso</th>\n",
       "      <th>atividade_prof</th>\n",
       "      <th>ap_horas</th>\n",
       "      <th>auxilio_estudantil</th>\n",
       "      <th>atividade_fis</th>\n",
       "      <th>af_items</th>\n",
       "      <th>curso_1op</th>\n",
       "      <th>curso_op</th>\n",
       "      <th>n_disciplinas</th>\n",
       "      <th>n_reprovacao</th>\n",
       "      <th>media</th>\n",
       "      <th>nvl_satisfacao</th>\n",
       "    </tr>\n",
       "    <tr>\n",
       "      <th>i</th>\n",
       "      <th></th>\n",
       "      <th></th>\n",
       "      <th></th>\n",
       "      <th></th>\n",
       "      <th></th>\n",
       "      <th></th>\n",
       "      <th></th>\n",
       "      <th></th>\n",
       "      <th></th>\n",
       "      <th></th>\n",
       "      <th></th>\n",
       "      <th></th>\n",
       "      <th></th>\n",
       "      <th></th>\n",
       "    </tr>\n",
       "  </thead>\n",
       "  <tbody>\n",
       "    <tr>\n",
       "      <th>20</th>\n",
       "      <td>Ciência da Computação</td>\n",
       "      <td>15</td>\n",
       "      <td>2</td>\n",
       "      <td>Sim</td>\n",
       "      <td>20.0</td>\n",
       "      <td>Não</td>\n",
       "      <td>Sim</td>\n",
       "      <td>Musculação</td>\n",
       "      <td>Não</td>\n",
       "      <td>Engenharia da computação</td>\n",
       "      <td>39</td>\n",
       "      <td>1</td>\n",
       "      <td>8.0</td>\n",
       "      <td>7</td>\n",
       "    </tr>\n",
       "  </tbody>\n",
       "</table>\n",
       "</div>"
      ],
      "text/plain": [
       "                    curso  ano_ingresso  sem_ingresso atividade_prof  \\\n",
       "i                                                                      \n",
       "20  Ciência da Computação            15             2            Sim   \n",
       "\n",
       "    ap_horas auxilio_estudantil atividade_fis    af_items curso_1op  \\\n",
       "i                                                                     \n",
       "20      20.0                Não           Sim  Musculação       Não   \n",
       "\n",
       "                    curso_op  n_disciplinas  n_reprovacao  media  \\\n",
       "i                                                                  \n",
       "20  Engenharia da computação             39             1    8.0   \n",
       "\n",
       "    nvl_satisfacao  \n",
       "i                   \n",
       "20               7  "
      ]
     },
     "execution_count": 18,
     "metadata": {},
     "output_type": "execute_result"
    }
   ],
   "source": [
    "df_comp = df[(df.curso == 'Ciência da Computação') | (df.curso == 'Engenharia de Computação')]\n",
    "df_comp.sample(1)"
   ]
  },
  {
   "cell_type": "code",
   "execution_count": 19,
   "metadata": {},
   "outputs": [
    {
     "data": {
      "image/png": "[encoded data removed]",
      "text/plain": [
       "<Figure size 432x288 with 1 Axes>"
      ]
     },
     "metadata": {},
     "output_type": "display_data"
    }
   ],
   "source": [
    "df_comp.atividade_fis.value_counts().plot.bar()\n",
    "plt.title('Praticantes de Atividades Físicas')\n",
    "plt.show()"
   ]
  },
  {
   "cell_type": "code",
   "execution_count": 20,
   "metadata": {},
   "outputs": [
    {
     "data": {
      "image/png": "[encoded data removed]",
      "text/plain": [
       "<Figure size 432x288 with 1 Axes>"
      ]
     },
     "metadata": {},
     "output_type": "display_data"
    }
   ],
   "source": [
    "df_comp.atividade_prof.value_counts().plot.bar()\n",
    "plt.title('Praticantes de Atividades Profissionais')\n",
    "plt.show()"
   ]
  },
  {
   "cell_type": "code",
   "execution_count": 21,
   "metadata": {},
   "outputs": [
    {
     "data": {
      "image/png": "[encoded data removed]",
      "text/plain": [
       "<Figure size 432x288 with 1 Axes>"
      ]
     },
     "metadata": {},
     "output_type": "display_data"
    }
   ],
   "source": [
    "df_comp[df_comp.ap_horas > 0].ap_horas.value_counts().plot.bar()\n",
    "plt.title('Praticantes de Atividades Profissionais')\n",
    "plt.show()"
   ]
  },
  {
   "cell_type": "code",
   "execution_count": 22,
   "metadata": {},
   "outputs": [
    {
     "name": "stderr",
     "output_type": "stream",
     "text": [
      "/home/iepsen/anaconda3/lib/python3.6/site-packages/ipykernel_launcher.py:1: UserWarning: Boolean Series key will be reindexed to match DataFrame index.\n",
      "  \"\"\"Entry point for launching an IPython kernel.\n"
     ]
    },
    {
     "data": {
      "text/html": [
       "<div>\n",
       "<style scoped>\n",
       "    .dataframe tbody tr th:only-of-type {\n",
       "        vertical-align: middle;\n",
       "    }\n",
       "\n",
       "    .dataframe tbody tr th {\n",
       "        vertical-align: top;\n",
       "    }\n",
       "\n",
       "    .dataframe thead th {\n",
       "        text-align: right;\n",
       "    }\n",
       "</style>\n",
       "<table border=\"1\" class=\"dataframe\">\n",
       "  <thead>\n",
       "    <tr style=\"text-align: right;\">\n",
       "      <th></th>\n",
       "      <th>ano_ingresso</th>\n",
       "      <th>sem_ingresso</th>\n",
       "      <th>ap_horas</th>\n",
       "      <th>n_disciplinas</th>\n",
       "      <th>n_reprovacao</th>\n",
       "      <th>media</th>\n",
       "      <th>nvl_satisfacao</th>\n",
       "    </tr>\n",
       "  </thead>\n",
       "  <tbody>\n",
       "    <tr>\n",
       "      <th>count</th>\n",
       "      <td>22.000000</td>\n",
       "      <td>22.000000</td>\n",
       "      <td>22.000000</td>\n",
       "      <td>22.000000</td>\n",
       "      <td>22.000000</td>\n",
       "      <td>22.0000</td>\n",
       "      <td>22.000000</td>\n",
       "    </tr>\n",
       "    <tr>\n",
       "      <th>mean</th>\n",
       "      <td>14.909091</td>\n",
       "      <td>1.272727</td>\n",
       "      <td>18.045455</td>\n",
       "      <td>34.409091</td>\n",
       "      <td>3.500000</td>\n",
       "      <td>7.0150</td>\n",
       "      <td>7.363636</td>\n",
       "    </tr>\n",
       "    <tr>\n",
       "      <th>std</th>\n",
       "      <td>1.444500</td>\n",
       "      <td>0.455842</td>\n",
       "      <td>5.295796</td>\n",
       "      <td>13.464801</td>\n",
       "      <td>3.801629</td>\n",
       "      <td>1.8739</td>\n",
       "      <td>1.733300</td>\n",
       "    </tr>\n",
       "    <tr>\n",
       "      <th>min</th>\n",
       "      <td>12.000000</td>\n",
       "      <td>1.000000</td>\n",
       "      <td>4.000000</td>\n",
       "      <td>4.000000</td>\n",
       "      <td>0.000000</td>\n",
       "      <td>1.5000</td>\n",
       "      <td>4.000000</td>\n",
       "    </tr>\n",
       "    <tr>\n",
       "      <th>25%</th>\n",
       "      <td>14.000000</td>\n",
       "      <td>1.000000</td>\n",
       "      <td>15.000000</td>\n",
       "      <td>26.250000</td>\n",
       "      <td>0.000000</td>\n",
       "      <td>5.8025</td>\n",
       "      <td>6.250000</td>\n",
       "    </tr>\n",
       "    <tr>\n",
       "      <th>50%</th>\n",
       "      <td>15.000000</td>\n",
       "      <td>1.000000</td>\n",
       "      <td>20.000000</td>\n",
       "      <td>38.500000</td>\n",
       "      <td>2.500000</td>\n",
       "      <td>7.3000</td>\n",
       "      <td>7.500000</td>\n",
       "    </tr>\n",
       "    <tr>\n",
       "      <th>75%</th>\n",
       "      <td>16.000000</td>\n",
       "      <td>1.750000</td>\n",
       "      <td>20.000000</td>\n",
       "      <td>42.000000</td>\n",
       "      <td>5.000000</td>\n",
       "      <td>8.5750</td>\n",
       "      <td>8.000000</td>\n",
       "    </tr>\n",
       "    <tr>\n",
       "      <th>max</th>\n",
       "      <td>17.000000</td>\n",
       "      <td>2.000000</td>\n",
       "      <td>30.000000</td>\n",
       "      <td>60.000000</td>\n",
       "      <td>13.000000</td>\n",
       "      <td>9.2000</td>\n",
       "      <td>10.000000</td>\n",
       "    </tr>\n",
       "  </tbody>\n",
       "</table>\n",
       "</div>"
      ],
      "text/plain": [
       "       ano_ingresso  sem_ingresso   ap_horas  n_disciplinas  n_reprovacao  \\\n",
       "count     22.000000     22.000000  22.000000      22.000000     22.000000   \n",
       "mean      14.909091      1.272727  18.045455      34.409091      3.500000   \n",
       "std        1.444500      0.455842   5.295796      13.464801      3.801629   \n",
       "min       12.000000      1.000000   4.000000       4.000000      0.000000   \n",
       "25%       14.000000      1.000000  15.000000      26.250000      0.000000   \n",
       "50%       15.000000      1.000000  20.000000      38.500000      2.500000   \n",
       "75%       16.000000      1.750000  20.000000      42.000000      5.000000   \n",
       "max       17.000000      2.000000  30.000000      60.000000     13.000000   \n",
       "\n",
       "         media  nvl_satisfacao  \n",
       "count  22.0000       22.000000  \n",
       "mean    7.0150        7.363636  \n",
       "std     1.8739        1.733300  \n",
       "min     1.5000        4.000000  \n",
       "25%     5.8025        6.250000  \n",
       "50%     7.3000        7.500000  \n",
       "75%     8.5750        8.000000  \n",
       "max     9.2000       10.000000  "
      ]
     },
     "execution_count": 22,
     "metadata": {},
     "output_type": "execute_result"
    }
   ],
   "source": [
    "df_comp[(df.atividade_fis == 'Sim') & (df.atividade_prof == 'Sim')].describe()"
   ]
  },
  {
   "cell_type": "code",
   "execution_count": 23,
   "metadata": {},
   "outputs": [
    {
     "name": "stderr",
     "output_type": "stream",
     "text": [
      "/home/iepsen/anaconda3/lib/python3.6/site-packages/ipykernel_launcher.py:1: UserWarning: Boolean Series key will be reindexed to match DataFrame index.\n",
      "  \"\"\"Entry point for launching an IPython kernel.\n"
     ]
    },
    {
     "data": {
      "text/html": [
       "<div>\n",
       "<style scoped>\n",
       "    .dataframe tbody tr th:only-of-type {\n",
       "        vertical-align: middle;\n",
       "    }\n",
       "\n",
       "    .dataframe tbody tr th {\n",
       "        vertical-align: top;\n",
       "    }\n",
       "\n",
       "    .dataframe thead th {\n",
       "        text-align: right;\n",
       "    }\n",
       "</style>\n",
       "<table border=\"1\" class=\"dataframe\">\n",
       "  <thead>\n",
       "    <tr style=\"text-align: right;\">\n",
       "      <th></th>\n",
       "      <th>ano_ingresso</th>\n",
       "      <th>sem_ingresso</th>\n",
       "      <th>ap_horas</th>\n",
       "      <th>n_disciplinas</th>\n",
       "      <th>n_reprovacao</th>\n",
       "      <th>media</th>\n",
       "      <th>nvl_satisfacao</th>\n",
       "    </tr>\n",
       "  </thead>\n",
       "  <tbody>\n",
       "    <tr>\n",
       "      <th>count</th>\n",
       "      <td>20.000000</td>\n",
       "      <td>20.000000</td>\n",
       "      <td>20.000000</td>\n",
       "      <td>20.000000</td>\n",
       "      <td>20.000000</td>\n",
       "      <td>20.000000</td>\n",
       "      <td>20.000000</td>\n",
       "    </tr>\n",
       "    <tr>\n",
       "      <th>mean</th>\n",
       "      <td>16.950000</td>\n",
       "      <td>1.400000</td>\n",
       "      <td>2.450000</td>\n",
       "      <td>21.850000</td>\n",
       "      <td>3.250000</td>\n",
       "      <td>6.831500</td>\n",
       "      <td>6.850000</td>\n",
       "    </tr>\n",
       "    <tr>\n",
       "      <th>std</th>\n",
       "      <td>1.050063</td>\n",
       "      <td>0.502625</td>\n",
       "      <td>6.962116</td>\n",
       "      <td>9.911583</td>\n",
       "      <td>2.807415</td>\n",
       "      <td>1.052042</td>\n",
       "      <td>1.460894</td>\n",
       "    </tr>\n",
       "    <tr>\n",
       "      <th>min</th>\n",
       "      <td>15.000000</td>\n",
       "      <td>1.000000</td>\n",
       "      <td>0.000000</td>\n",
       "      <td>7.000000</td>\n",
       "      <td>0.000000</td>\n",
       "      <td>5.000000</td>\n",
       "      <td>3.000000</td>\n",
       "    </tr>\n",
       "    <tr>\n",
       "      <th>25%</th>\n",
       "      <td>16.000000</td>\n",
       "      <td>1.000000</td>\n",
       "      <td>0.000000</td>\n",
       "      <td>15.750000</td>\n",
       "      <td>1.000000</td>\n",
       "      <td>6.000000</td>\n",
       "      <td>6.750000</td>\n",
       "    </tr>\n",
       "    <tr>\n",
       "      <th>50%</th>\n",
       "      <td>17.000000</td>\n",
       "      <td>1.000000</td>\n",
       "      <td>0.000000</td>\n",
       "      <td>20.000000</td>\n",
       "      <td>3.000000</td>\n",
       "      <td>6.550000</td>\n",
       "      <td>7.000000</td>\n",
       "    </tr>\n",
       "    <tr>\n",
       "      <th>75%</th>\n",
       "      <td>18.000000</td>\n",
       "      <td>2.000000</td>\n",
       "      <td>0.000000</td>\n",
       "      <td>26.750000</td>\n",
       "      <td>5.000000</td>\n",
       "      <td>7.625000</td>\n",
       "      <td>8.000000</td>\n",
       "    </tr>\n",
       "    <tr>\n",
       "      <th>max</th>\n",
       "      <td>19.000000</td>\n",
       "      <td>2.000000</td>\n",
       "      <td>25.000000</td>\n",
       "      <td>42.000000</td>\n",
       "      <td>9.000000</td>\n",
       "      <td>8.900000</td>\n",
       "      <td>9.000000</td>\n",
       "    </tr>\n",
       "  </tbody>\n",
       "</table>\n",
       "</div>"
      ],
      "text/plain": [
       "       ano_ingresso  sem_ingresso   ap_horas  n_disciplinas  n_reprovacao  \\\n",
       "count     20.000000     20.000000  20.000000      20.000000     20.000000   \n",
       "mean      16.950000      1.400000   2.450000      21.850000      3.250000   \n",
       "std        1.050063      0.502625   6.962116       9.911583      2.807415   \n",
       "min       15.000000      1.000000   0.000000       7.000000      0.000000   \n",
       "25%       16.000000      1.000000   0.000000      15.750000      1.000000   \n",
       "50%       17.000000      1.000000   0.000000      20.000000      3.000000   \n",
       "75%       18.000000      2.000000   0.000000      26.750000      5.000000   \n",
       "max       19.000000      2.000000  25.000000      42.000000      9.000000   \n",
       "\n",
       "           media  nvl_satisfacao  \n",
       "count  20.000000       20.000000  \n",
       "mean    6.831500        6.850000  \n",
       "std     1.052042        1.460894  \n",
       "min     5.000000        3.000000  \n",
       "25%     6.000000        6.750000  \n",
       "50%     6.550000        7.000000  \n",
       "75%     7.625000        8.000000  \n",
       "max     8.900000        9.000000  "
      ]
     },
     "execution_count": 23,
     "metadata": {},
     "output_type": "execute_result"
    }
   ],
   "source": [
    "df_comp[(df.auxilio_estudantil == 'Sim')].describe()"
   ]
  },
  {
   "cell_type": "code",
   "execution_count": 24,
   "metadata": {},
   "outputs": [
    {
     "data": {
      "text/plain": [
       "sem_ingresso\n",
       "1    6.665694\n",
       "2    6.501707\n",
       "Name: media, dtype: float64"
      ]
     },
     "execution_count": 24,
     "metadata": {},
     "output_type": "execute_result"
    }
   ],
   "source": [
    "df_comp.groupby('sem_ingresso')['media'].mean()"
   ]
  },
  {
   "cell_type": "code",
   "execution_count": 25,
   "metadata": {},
   "outputs": [
    {
     "data": {
      "text/plain": [
       "sem_ingresso\n",
       "1    7.291667\n",
       "2    7.195122\n",
       "Name: nvl_satisfacao, dtype: float64"
      ]
     },
     "execution_count": 25,
     "metadata": {},
     "output_type": "execute_result"
    }
   ],
   "source": [
    "df_comp.groupby('sem_ingresso')['nvl_satisfacao'].mean()"
   ]
  },
  {
   "cell_type": "code",
   "execution_count": 31,
   "metadata": {},
   "outputs": [
    {
     "data": {
      "text/plain": [
       "sem_ingresso\n",
       "1    4.125\n",
       "2    5.000\n",
       "Name: n_reprovacao, dtype: float64"
      ]
     },
     "execution_count": 31,
     "metadata": {},
     "output_type": "execute_result"
    }
   ],
   "source": [
    "df_comp.groupby('sem_ingresso')['n_reprovacao'].mean()"
   ]
  },
  {
   "cell_type": "code",
   "execution_count": 32,
   "metadata": {},
   "outputs": [
    {
     "data": {
      "text/plain": [
       "sem_ingresso\n",
       "1    28.069444\n",
       "2    28.902439\n",
       "Name: n_disciplinas, dtype: float64"
      ]
     },
     "execution_count": 32,
     "metadata": {},
     "output_type": "execute_result"
    }
   ],
   "source": [
    "df_comp.groupby('sem_ingresso')['n_disciplinas'].mean()"
   ]
  },
  {
   "cell_type": "code",
   "execution_count": 50,
   "metadata": {},
   "outputs": [
    {
     "data": {
      "text/plain": [
       "84.3418590143481"
      ]
     },
     "execution_count": 50,
     "metadata": {},
     "output_type": "execute_result"
    }
   ],
   "source": [
    "(1 - df_comp['n_reprovacao'].mean() / df_comp['n_disciplinas'].mean()) * 100"
   ]
  },
  {
   "cell_type": "code",
   "execution_count": 60,
   "metadata": {},
   "outputs": [
    {
     "data": {
      "text/plain": [
       "6.728571428571429"
      ]
     },
     "execution_count": 60,
     "metadata": {},
     "output_type": "execute_result"
    }
   ],
   "source": [
    "#df.columns\n",
    "df_comp[df_comp.curso_1op == 'Não']['media'].mean()"
   ]
  },
  {
   "cell_type": "code",
   "execution_count": 61,
   "metadata": {},
   "outputs": [
    {
     "data": {
      "text/plain": [
       "6.588888888888885"
      ]
     },
     "execution_count": 61,
     "metadata": {},
     "output_type": "execute_result"
    }
   ],
   "source": [
    "df_comp[df_comp.curso_1op == 'Sim']['media'].mean()"
   ]
  },
  {
   "cell_type": "markdown",
   "metadata": {},
   "source": [
    "# Comparando nivel de satisfação"
   ]
  },
  {
   "cell_type": "code",
   "execution_count": 63,
   "metadata": {},
   "outputs": [
    {
     "data": {
      "text/plain": [
       "6.857142857142857"
      ]
     },
     "execution_count": 63,
     "metadata": {},
     "output_type": "execute_result"
    }
   ],
   "source": [
    "df_comp[df_comp.curso_1op == 'Não']['nvl_satisfacao'].mean()"
   ]
  },
  {
   "cell_type": "code",
   "execution_count": 64,
   "metadata": {},
   "outputs": [
    {
     "data": {
      "text/plain": [
       "7.313131313131313"
      ]
     },
     "execution_count": 64,
     "metadata": {},
     "output_type": "execute_result"
    }
   ],
   "source": [
    "df_comp[df_comp.curso_1op == 'Sim']['nvl_satisfacao'].mean()"
   ]
  },
  {
   "cell_type": "markdown",
   "metadata": {},
   "source": [
    "# Comparando alunos que fazem atividades fisicas"
   ]
  },
  {
   "cell_type": "code",
   "execution_count": 69,
   "metadata": {},
   "outputs": [
    {
     "data": {
      "text/plain": [
       "6.65056338028169"
      ]
     },
     "execution_count": 69,
     "metadata": {},
     "output_type": "execute_result"
    }
   ],
   "source": [
    "df_comp[df_comp.atividade_fis == 'Sim']['media'].mean()"
   ]
  },
  {
   "cell_type": "code",
   "execution_count": 70,
   "metadata": {},
   "outputs": [
    {
     "data": {
      "text/plain": [
       "6.531190476190475"
      ]
     },
     "execution_count": 70,
     "metadata": {},
     "output_type": "execute_result"
    }
   ],
   "source": [
    "df_comp[df_comp.atividade_fis == 'Não']['media'].mean()"
   ]
  },
  {
   "cell_type": "markdown",
   "metadata": {},
   "source": [
    "# Comparando alunos que exercem atividades profissionais"
   ]
  },
  {
   "cell_type": "code",
   "execution_count": 74,
   "metadata": {},
   "outputs": [
    {
     "data": {
      "text/plain": [
       "6.96151515151515"
      ]
     },
     "execution_count": 74,
     "metadata": {},
     "output_type": "execute_result"
    }
   ],
   "source": [
    "df_comp[df_comp.atividade_prof == 'Sim']['media'].mean()"
   ]
  },
  {
   "cell_type": "code",
   "execution_count": 76,
   "metadata": {},
   "outputs": [
    {
     "data": {
      "text/plain": [
       "6.459624999999998"
      ]
     },
     "execution_count": 76,
     "metadata": {},
     "output_type": "execute_result"
    }
   ],
   "source": [
    "df_comp[df_comp.atividade_prof == 'Não']['media'].mean()"
   ]
  },
  {
   "cell_type": "markdown",
   "metadata": {},
   "source": [
    "# Comparando alunos que exercem atividade físicas e profissionais"
   ]
  },
  {
   "cell_type": "code",
   "execution_count": 80,
   "metadata": {},
   "outputs": [
    {
     "data": {
      "text/plain": [
       "7.015000000000001"
      ]
     },
     "execution_count": 80,
     "metadata": {},
     "output_type": "execute_result"
    }
   ],
   "source": [
    "df_comp[(df_comp.atividade_prof == 'Sim') & (df_comp.atividade_fis == 'Sim')]['media'].mean()"
   ]
  },
  {
   "cell_type": "code",
   "execution_count": 81,
   "metadata": {},
   "outputs": [
    {
     "data": {
      "text/plain": [
       "6.4164516129032245"
      ]
     },
     "execution_count": 81,
     "metadata": {},
     "output_type": "execute_result"
    }
   ],
   "source": [
    "df_comp[(df_comp.atividade_prof == 'Não') & (df_comp.atividade_fis == 'Não')]['media'].mean()"
   ]
  },
  {
   "cell_type": "code",
   "execution_count": 83,
   "metadata": {},
   "outputs": [
    {
     "data": {
      "text/plain": [
       "7.363636363636363"
      ]
     },
     "execution_count": 83,
     "metadata": {},
     "output_type": "execute_result"
    }
   ],
   "source": [
    "df_comp[(df_comp.atividade_prof == 'Sim') & (df_comp.atividade_fis == 'Sim')]['nvl_satisfacao'].mean()"
   ]
  },
  {
   "cell_type": "code",
   "execution_count": 85,
   "metadata": {},
   "outputs": [
    {
     "data": {
      "text/plain": [
       "7.032258064516129"
      ]
     },
     "execution_count": 85,
     "metadata": {},
     "output_type": "execute_result"
    }
   ],
   "source": [
    "df_comp[(df_comp.atividade_prof == 'Não') & (df_comp.atividade_fis == 'Não')]['nvl_satisfacao'].mean()"
   ]
  },
  {
   "cell_type": "code",
   "execution_count": null,
   "metadata": {},
   "outputs": [],
   "source": []
  },
  {
   "cell_type": "code",
   "execution_count": 96,
   "metadata": {},
   "outputs": [
    {
     "data": {
      "text/plain": [
       "<matplotlib.axes._subplots.AxesSubplot at 0x7f720d91e518>"
      ]
     },
     "execution_count": 96,
     "metadata": {},
     "output_type": "execute_result"
    },
    {
     "data": {
      "image/png": "[encoded data removed]",
      "text/plain": [
       "<Figure size 432x288 with 1 Axes>"
      ]
     },
     "metadata": {},
     "output_type": "display_data"
    }
   ],
   "source": [
    "df_comp[df_comp.atividade_prof == 'Sim'][['media', 'ap_horas']].plot.line()"
   ]
  },
  {
   "cell_type": "code",
   "execution_count": 101,
   "metadata": {},
   "outputs": [
    {
     "data": {
      "text/plain": [
       "Musculação                        16\n",
       "Academia                          13\n",
       "Corrida                           10\n",
       "Futebol                            6\n",
       "Ciclismo                           2\n",
       "musculação                         2\n",
       "Futebol, vôlei, corrida            1\n",
       "Vôlei                              1\n",
       "ciclismo                           1\n",
       "Treinamento funcional              1\n",
       "Academia com personal trainer      1\n",
       "Ciclismo, corrida e yoga           1\n",
       "Bicicleta e Natação                1\n",
       "Futsal, futebol, vôlei             1\n",
       "Pilates                            1\n",
       "FUTEBOL/ CORRIDA                   1\n",
       "Academia, Futebol, Volei           1\n",
       "Pedalada                           1\n",
       "academia                           1\n",
       "Futsal e corrida                   1\n",
       "Academia e basquete                1\n",
       "Bicicleta, Corrida                 1\n",
       "Skate, Exercicios físicos          1\n",
       "Musculação e Corrida               1\n",
       "Jiu Jitsu                          1\n",
       "Futebol e corrida                  1\n",
       "Musculação e ciclismo              1\n",
       "Pedalar                            1\n",
       "Skate                              1\n",
       "Kickboxing                         1\n",
       "Academia e Futebol                 1\n",
       "Musculação, esteira                1\n",
       "Futebol, corrida, basquete         1\n",
       "Treinamento Funcional              1\n",
       "Musculação - Corrida               1\n",
       "Musculação e caminhada             1\n",
       "correr, musculação                 1\n",
       "Futebol, volei e caminhada         1\n",
       "Bicicleta, corrida                 1\n",
       "Corrida, caminhada, musculação     1\n",
       "Basquete, futebol, padel           1\n",
       "Tudo de tudo                       1\n",
       "Academia, corrida, tênis           1\n",
       "Ciclismo amador e academia         1\n",
       "Futebol, Corrida                   1\n",
       "Pular corda, correr em esteira     1\n",
       "karatê                             1\n",
       "Name: af_items, dtype: int64"
      ]
     },
     "execution_count": 101,
     "metadata": {},
     "output_type": "execute_result"
    }
   ],
   "source": [
    "df.af_items.value_counts()"
   ]
  },
  {
   "cell_type": "code",
   "execution_count": null,
   "metadata": {},
   "outputs": [],
   "source": []
  }
 ],
 "metadata": {
  "kernelspec": {
   "display_name": "Python 3",
   "language": "python",
   "name": "python3"
  },
  "language_info": {
   "codemirror_mode": {
    "name": "ipython",
    "version": 3
   },
   "file_extension": ".py",
   "mimetype": "text/x-python",
   "name": "python",
   "nbconvert_exporter": "python",
   "pygments_lexer": "ipython3",
   "version": "3.6.5"
  }
 },
 "nbformat": 4,
 "nbformat_minor": 2
}
